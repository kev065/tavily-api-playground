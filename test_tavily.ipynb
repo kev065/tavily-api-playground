{
 "cells": [
  {
   "cell_type": "markdown",
   "metadata": {},
   "source": [
    "### Getting and printing the full Search API response"
   ]
  },
  {
   "cell_type": "code",
   "execution_count": 1,
   "metadata": {},
   "outputs": [
    {
     "name": "stdout",
     "output_type": "stream",
     "text": [
      "{'query': 'Who is Leo Messi?', 'follow_up_questions': None, 'answer': None, 'images': [], 'results': [{'title': 'Career of Lionel Messi - Wikipedia', 'url': 'https://en.wikipedia.org/wiki/Career_of_Lionel_Messi', 'content': \"Lionel Messi is an Argentine professional footballer who plays as a forward for and captains both Major League Soccer club Inter Miami and the Argentina national team.His individual achievements include eight Ballon d'Or awards, the most for any footballer. Having won 45 team trophies, [note 1] he is the most decorated player in the history of professional football. [11]\", 'score': 0.9970765, 'raw_content': None}, {'title': 'Lionel Messi, the little boy who became the greatest in history', 'url': 'https://en.as.com/soccer/lionel-messi-the-little-boy-who-became-the-greatest-in-history-n-2/', 'content': 'PSG player Lionel Andrés Messi was born on 24 June 1987 in Rosario, Argentina. He will be forever historically linked to FC Barcelona, the club that changed his life and helped to cure an illness', 'score': 0.9634375, 'raw_content': None}, {'title': 'Lionel Messi | Biography, Competitions, Wins and Medals', 'url': 'https://olympics.com/en/athletes/lionel-messi', 'content': '“The Olympic gold in 2008 is the win that I value the most because it is a tournament that you may play only once in your life and involves many athletes from different disciplines” - Lionel Messi, Spanish Esquire\\nFeatured\\nLatest News\\nOlympic Results\\nAthlete Olympic Results Content\\nYou may like Lionel MESSI\\nBiography\\nBorn in Rosario, Argentina in 1987 Lionel Messi is widely held to be one of the greatest football players of his generation — and with good reason.\\n Graduating quickly through the club’s ranks thanks to his ever-growing skill set Messi made his first senior appearance for the club at the age of 17.\\n When he eventually left the team in 2021 for French club Paris Saint-Germain the Argentine completed his time in La Liga as its top goal-scorer, with an eye-watering 474 successful shots to his name.\\n He also came close to winning the FIFA World Cup in 2014 but Argentina fell to Germany 1-0 in the final.\\n', 'score': 0.94240075, 'raw_content': None}, {'title': 'Lionel Messi: The evolution of the greatest footballer of all time', 'url': 'https://www.nytimes.com/athletic/4679809/2023/07/19/lionel-messi-evolution-barcelona-argentina/', 'content': \"Lionel Messi profile: The life and times of Inter Miami's World Cup winner; The Dribbling Winger. Next time you've got a minute to reconsider whether you've ever truly been good at anything,\", 'score': 0.90515476, 'raw_content': None}, {'title': \"Lionel Messi | Records, Height, Ballon d'Or, Inter Miami, & Facts ...\", 'url': 'https://www.britannica.com/biography/Lionel-Messi', 'content': 'In early 2009 Messi capped off a spectacular 2008–09 season by helping FC Barcelona capture the club’s first “treble” (winning three major European club titles in one season): the team won the La Liga championship, the Copa del Rey (Spain’s major domestic cup), and the Champions League title. Messi’s play continued to rapidly improve over the years, and by 2008 he was one of the most dominant players in the world, finishing second to Manchester United’s Cristiano Ronaldo in the voting for the 2008 Ballon d’Or. At the 2014 World Cup, Messi put on a dazzling display, scoring four goals and almost single-handedly propelling an offense-deficient Argentina team through the group stage and into the knockout rounds, where Argentina then advanced to the World Cup final for the first time in 24 years. After Argentina was defeated in the Copa final—the team’s third consecutive finals loss in a major tournament—Messi said that he was quitting the national team, but his short-lived “retirement” lasted less than two months before he announced his return to the Argentine team. Messi helped Barcelona capture another treble during the 2014–15 season, leading the team with 43 goals scored over the course of the campaign, which resulted in his fifth world player of the year honour.', 'score': 0.8749346, 'raw_content': None}], 'response_time': 1.38}\n"
     ]
    }
   ],
   "source": [
    "from dotenv import load_dotenv\n",
    "import os\n",
    "from tavily import TavilyClient\n",
    "\n",
    "load_dotenv()\n",
    "\n",
    "# Get the API key\n",
    "api_key = os.getenv(\"TAVILY_API_KEY\")\n",
    "\n",
    "# Initialize TavilyClient\n",
    "tavily_client = TavilyClient(api_key=api_key)\n",
    "\n",
    "# Execute a query\n",
    "response = tavily_client.search(\"Who is Leo Messi?\")\n",
    "print(response)"
   ]
  },
  {
   "cell_type": "markdown",
   "metadata": {},
   "source": [
    "### Generating context for a RAG Application​"
   ]
  },
  {
   "cell_type": "code",
   "execution_count": 2,
   "metadata": {},
   "outputs": [
    {
     "name": "stdout",
     "output_type": "stream",
     "text": [
      "\"[\\\"{\\\\\\\"url\\\\\\\": \\\\\\\"https://www.aljazeera.com/features/2024/7/24/kenya-is-not-asleep-anymore-why-young-protesters-are-not-backing-down\\\\\\\", \\\\\\\"content\\\\\\\": \\\\\\\"Nairobi, Kenya - Daniel Wambua did ... Four people were shot dead during the protests on July 16, allegedly by police. ... A majority of Kenyans support what is now popularly known as the Gen Z\\\\\\\"}\\\", \\\"{\\\\\\\"url\\\\\\\": \\\\\\\"https://en.wikipedia.org/wiki/Kenya_Finance_Bill_protests\\\\\\\", \\\\\\\"content\\\\\\\": \\\\\\\"The Kenya Finance Bill protests, widely known by #RejectFinanceBill2024, or Gen Z protests, were a series of decentralized mass protests in Kenya against tax increases proposed by the Government of Kenya in the Finance Bill 2024. [11] Following the storming of the Kenyan Parliament, president William Ruto reportedly rejected the Bill on 28 June; signed into law the \\\\\\\\\\\\\\\"Appropriations Bill 2024\\\\\\\"}\\\", \\\"{\\\\\\\"url\\\\\\\": \\\\\\\"https://www.ujasusi.com/p/kenya-the-rise-and-likely-decline\\\\\\\", \\\\\\\"content\\\\\\\": \\\\\\\"In June 2024, Kenya witnessed an unprecedented wave of protests led by its youth, particularly those belonging to Generation Z. What began as online outrage against proposed tax hikes quickly evolved into a nationwide movement that shook the foundations of President William Ruto's government and exposed deep-seated frustrations among Kenya's young population. 1\\\\\\\"}\\\", \\\"{\\\\\\\"url\\\\\\\": \\\\\\\"https://www.accord.org.za/analysis/kenyas-historic-gen-z-led-protests-the-issues/\\\\\\\", \\\\\\\"content\\\\\\\": \\\\\\\"Kenya recently witnessed unprecedented nationwide protests in defiance of government proposed tax increases and also elicited police brutality. These protests were led by \\\\\\\\\\\\\\\"Generation Z\\\\\\\\\\\\\\\" popularly referred to as \\\\\\\\\\\\\\\"Gen Z\\\\\\\\\\\\\\\", who used social media to mobilise against the Kenya Finance Bill 2024 and other excesses under the hashtag #\\\\\\\"}\\\", \\\"{\\\\\\\"url\\\\\\\": \\\\\\\"https://theconversation.com/kenyas-protests-are-different-this-time-3-things-that-make-it-harder-for-government-to-crush-them-233790\\\\\\\", \\\\\\\"content\\\\\\\": \\\\\\\"On 25 June 2024, a youth-led protest primarily composed of Gen Zs, as they are popularly referred to, stormed Kenya's parliament. Legislators voted to pass the Finance Bill 2024 in its third and\\\\\\\"}\\\"]\"\n"
     ]
    }
   ],
   "source": [
    "# context search query\n",
    "context = tavily_client.get_search_context(query=\"What happened during the Kenya Gen Z Protests?\")\n",
    "\n",
    "print(context)"
   ]
  },
  {
   "cell_type": "markdown",
   "metadata": {},
   "source": [
    "### Getting a quick answer to a question​"
   ]
  },
  {
   "cell_type": "code",
   "execution_count": 3,
   "metadata": {},
   "outputs": [
    {
     "name": "stdout",
     "output_type": "stream",
     "text": [
      "Bing is a search engine owned by Microsoft that offers web, video, image, and map search products. It incorporates features like AI technology to provide instant answers and plans to integrate generative AI technology from OpenAI for more natural and accurate query responses. Bing focuses on simplifying search, with target areas including shopping, travel, local, and health.\n"
     ]
    }
   ],
   "source": [
    "# search query \n",
    "answer = tavily_client.qna_search(query=\"What is bing?\")\n",
    "print(answer)"
   ]
  }
 ],
 "metadata": {
  "kernelspec": {
   "display_name": "learn-env",
   "language": "python",
   "name": "python3"
  },
  "language_info": {
   "codemirror_mode": {
    "name": "ipython",
    "version": 3
   },
   "file_extension": ".py",
   "mimetype": "text/x-python",
   "name": "python",
   "nbconvert_exporter": "python",
   "pygments_lexer": "ipython3",
   "version": "3.12.3"
  }
 },
 "nbformat": 4,
 "nbformat_minor": 2
}
